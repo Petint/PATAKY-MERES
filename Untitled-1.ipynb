{
 "cells": [
  {
   "cell_type": "markdown",
   "metadata": {},
   "source": [
    "## Teszt mérés\n",
    "Adatok reformálása"
   ]
  },
  {
   "cell_type": "code",
   "execution_count": 13,
   "metadata": {},
   "outputs": [
    {
     "data": {
      "text/html": [
       "<div>\n",
       "<style scoped>\n",
       "    .dataframe tbody tr th:only-of-type {\n",
       "        vertical-align: middle;\n",
       "    }\n",
       "\n",
       "    .dataframe tbody tr th {\n",
       "        vertical-align: top;\n",
       "    }\n",
       "\n",
       "    .dataframe thead th {\n",
       "        text-align: right;\n",
       "    }\n",
       "</style>\n",
       "<table border=\"1\" class=\"dataframe\">\n",
       "  <thead>\n",
       "    <tr style=\"text-align: right;\">\n",
       "      <th></th>\n",
       "      <th>Memory Length</th>\n",
       "      <th>Trigger Level</th>\n",
       "      <th>Source</th>\n",
       "      <th>Vertical Units</th>\n",
       "      <th>Vertical Scale</th>\n",
       "      <th>Vertical Position</th>\n",
       "      <th>Horizontal Units</th>\n",
       "      <th>Horizontal Scale</th>\n",
       "      <th>Horizontal Position</th>\n",
       "      <th>Horizontal Mode</th>\n",
       "      <th>Sampling Period</th>\n",
       "      <th>Firmware</th>\n",
       "      <th>Waveform Data</th>\n",
       "    </tr>\n",
       "  </thead>\n",
       "  <tbody>\n",
       "    <tr>\n",
       "      <th>0</th>\n",
       "      <td>4000</td>\n",
       "      <td>0</td>\n",
       "      <td>CH1</td>\n",
       "      <td>V</td>\n",
       "      <td>0.1</td>\n",
       "      <td>0</td>\n",
       "      <td>s</td>\n",
       "      <td>0.0005</td>\n",
       "      <td>0</td>\n",
       "      <td>Main</td>\n",
       "      <td>0.000002</td>\n",
       "      <td>V1.14</td>\n",
       "      <td>3</td>\n",
       "    </tr>\n",
       "    <tr>\n",
       "      <th>1</th>\n",
       "      <td>4000</td>\n",
       "      <td>0</td>\n",
       "      <td>CH1</td>\n",
       "      <td>V</td>\n",
       "      <td>0.1</td>\n",
       "      <td>0</td>\n",
       "      <td>s</td>\n",
       "      <td>0.0005</td>\n",
       "      <td>0</td>\n",
       "      <td>Main</td>\n",
       "      <td>0.000002</td>\n",
       "      <td>V1.14</td>\n",
       "      <td>3</td>\n",
       "    </tr>\n",
       "    <tr>\n",
       "      <th>2</th>\n",
       "      <td>4000</td>\n",
       "      <td>0</td>\n",
       "      <td>CH1</td>\n",
       "      <td>V</td>\n",
       "      <td>0.1</td>\n",
       "      <td>0</td>\n",
       "      <td>s</td>\n",
       "      <td>0.0005</td>\n",
       "      <td>0</td>\n",
       "      <td>Main</td>\n",
       "      <td>0.000002</td>\n",
       "      <td>V1.14</td>\n",
       "      <td>2</td>\n",
       "    </tr>\n",
       "    <tr>\n",
       "      <th>3</th>\n",
       "      <td>4000</td>\n",
       "      <td>0</td>\n",
       "      <td>CH1</td>\n",
       "      <td>V</td>\n",
       "      <td>0.1</td>\n",
       "      <td>0</td>\n",
       "      <td>s</td>\n",
       "      <td>0.0005</td>\n",
       "      <td>0</td>\n",
       "      <td>Main</td>\n",
       "      <td>0.000002</td>\n",
       "      <td>V1.14</td>\n",
       "      <td>2</td>\n",
       "    </tr>\n",
       "    <tr>\n",
       "      <th>4</th>\n",
       "      <td>4000</td>\n",
       "      <td>0</td>\n",
       "      <td>CH1</td>\n",
       "      <td>V</td>\n",
       "      <td>0.1</td>\n",
       "      <td>0</td>\n",
       "      <td>s</td>\n",
       "      <td>0.0005</td>\n",
       "      <td>0</td>\n",
       "      <td>Main</td>\n",
       "      <td>0.000002</td>\n",
       "      <td>V1.14</td>\n",
       "      <td>2</td>\n",
       "    </tr>\n",
       "  </tbody>\n",
       "</table>\n",
       "</div>"
      ],
      "text/plain": [
       "   Memory Length  Trigger Level Source Vertical Units  Vertical Scale  \\\n",
       "0           4000              0    CH1              V             0.1   \n",
       "1           4000              0    CH1              V             0.1   \n",
       "2           4000              0    CH1              V             0.1   \n",
       "3           4000              0    CH1              V             0.1   \n",
       "4           4000              0    CH1              V             0.1   \n",
       "\n",
       "   Vertical Position Horizontal Units  Horizontal Scale  Horizontal Position  \\\n",
       "0                  0                s            0.0005                    0   \n",
       "1                  0                s            0.0005                    0   \n",
       "2                  0                s            0.0005                    0   \n",
       "3                  0                s            0.0005                    0   \n",
       "4                  0                s            0.0005                    0   \n",
       "\n",
       "  Horizontal Mode  Sampling Period Firmware  Waveform Data  \n",
       "0            Main         0.000002    V1.14              3  \n",
       "1            Main         0.000002    V1.14              3  \n",
       "2            Main         0.000002    V1.14              2  \n",
       "3            Main         0.000002    V1.14              2  \n",
       "4            Main         0.000002    V1.14              2  "
      ]
     },
     "execution_count": 13,
     "metadata": {},
     "output_type": "execute_result"
    }
   ],
   "source": [
    "import pandas as pd\n",
    "from matplotlib import pyplot as plt\n",
    "from PetintLib.washingmachine import clean\n",
    "ch1_f = \"221205/500HZ/A0004CH1.CSV\"\n",
    "ch2_f = \"221205/500HZ/A0004CH2.CSV\"\n",
    "\n",
    "ch1 = pd.read_json(clean(ch1_f))\n",
    "ch2 = pd.read_json(clean(ch2_f))\n",
    "ch1.head()"
   ]
  },
  {
   "cell_type": "markdown",
   "metadata": {},
   "source": [
    "# Grafikon próba"
   ]
  },
  {
   "cell_type": "code",
   "execution_count": 16,
   "metadata": {},
   "outputs": [
    {
     "data": {
      "image/png": "[encoded data removed]",
      "text/plain": [
       "<Figure size 640x480 with 1 Axes>"
      ]
     },
     "metadata": {},
     "output_type": "display_data"
    }
   ],
   "source": [
    "plt.scatter(ch1['Waveform Data'], ch2['Waveform Data'])\n",
    "plt.xlabel(\"X\")\n",
    "plt.ylabel('Y')\n",
    "plt.title('X - Y')\n",
    "plt.show()"
   ]
  }
 ],
 "metadata": {
  "kernelspec": {
   "display_name": "Python 3.11.0 64-bit (microsoft store)",
   "language": "python",
   "name": "python3"
  },
  "language_info": {
   "codemirror_mode": {
    "name": "ipython",
    "version": 3
   },
   "file_extension": ".py",
   "mimetype": "text/x-python",
   "name": "python",
   "nbconvert_exporter": "python",
   "pygments_lexer": "ipython3",
   "version": "3.11.0"
  },
  "orig_nbformat": 4,
  "vscode": {
   "interpreter": {
    "hash": "1432c27067456d9c602523e5e936aced0263109f5a71177d7cb50b721b862e5e"
   }
  }
 },
 "nbformat": 4,
 "nbformat_minor": 2
}
