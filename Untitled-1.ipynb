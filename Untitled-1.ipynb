{
 "cells": [
  {
   "cell_type": "markdown",
   "metadata": {},
   "source": [
    "## Teszt mérés\n",
    "Adatok reformálása"
   ]
  },
  {
   "cell_type": "code",
   "execution_count": 10,
   "metadata": {},
   "outputs": [
    {
     "ename": "UnicodeDecodeError",
     "evalue": "'utf-8' codec can't decode byte 0x85 in position 210: invalid start byte",
     "output_type": "error",
     "traceback": [
      "\u001b[1;31m---------------------------------------------------------------------------\u001b[0m",
      "\u001b[1;31mUnicodeDecodeError\u001b[0m                        Traceback (most recent call last)",
      "Cell \u001b[1;32mIn [10], line 7\u001b[0m\n\u001b[0;32m      4\u001b[0m ch2_f \u001b[39m=\u001b[39m \u001b[39m\"\u001b[39m\u001b[39mRC1/A0002CH2.CSV\u001b[39m\u001b[39m\"\u001b[39m\n\u001b[0;32m      6\u001b[0m param1, ch1 \u001b[39m=\u001b[39m clean(ch1_f)\n\u001b[1;32m----> 7\u001b[0m param2, ch2 \u001b[39m=\u001b[39m clean(ch2_f)\n",
      "File \u001b[1;32mc:\\Users\\Petint\\Documents\\GitHub\\PATAKY-MERES\\PetintLib\\washingmachine.py:10\u001b[0m, in \u001b[0;36mclean\u001b[1;34m(file_in)\u001b[0m\n\u001b[0;32m      8\u001b[0m \u001b[39m\"\"\"Turn saved waveforms into usable data\"\"\"\u001b[39;00m\n\u001b[0;32m      9\u001b[0m \u001b[39mwith\u001b[39;00m \u001b[39mopen\u001b[39m(file_in, \u001b[39m'\u001b[39m\u001b[39mrt\u001b[39m\u001b[39m'\u001b[39m, encoding\u001b[39m=\u001b[39m\u001b[39m'\u001b[39m\u001b[39mutf-8\u001b[39m\u001b[39m'\u001b[39m) \u001b[39mas\u001b[39;00m du:\n\u001b[1;32m---> 10\u001b[0m     data \u001b[39m=\u001b[39m du\u001b[39m.\u001b[39;49mread()\u001b[39m.\u001b[39msplitlines()\n\u001b[0;32m     11\u001b[0m data \u001b[39m=\u001b[39m [n\u001b[39m.\u001b[39msplit(\u001b[39m'\u001b[39m\u001b[39m,\u001b[39m\u001b[39m'\u001b[39m) \u001b[39mfor\u001b[39;00m n \u001b[39min\u001b[39;00m data]\n\u001b[0;32m     12\u001b[0m keys \u001b[39m=\u001b[39m [f[\u001b[39m0\u001b[39m] \u001b[39mfor\u001b[39;00m f \u001b[39min\u001b[39;00m data[:\u001b[39m13\u001b[39m]]\n",
      "File \u001b[1;32m<frozen codecs>:322\u001b[0m, in \u001b[0;36mdecode\u001b[1;34m(self, input, final)\u001b[0m\n",
      "\u001b[1;31mUnicodeDecodeError\u001b[0m: 'utf-8' codec can't decode byte 0x85 in position 210: invalid start byte"
     ]
    }
   ],
   "source": [
    "from matplotlib import pyplot as plt\n",
    "from PetintLib.washingmachine import clean\n",
    "ch1_f = \"RC1/A0002CH1.CSV\"\n",
    "ch2_f = \"RC1/A0002CH2.CSV\"\n",
    "\n",
    "param1, ch1 = clean(ch1_f)\n",
    "param2, ch2 = clean(ch2_f)"
   ]
  },
  {
   "cell_type": "markdown",
   "metadata": {},
   "source": [
    "# Grafikon próba"
   ]
  },
  {
   "cell_type": "code",
   "execution_count": 9,
   "metadata": {},
   "outputs": [
    {
     "ename": "NameError",
     "evalue": "name 'ch2' is not defined",
     "output_type": "error",
     "traceback": [
      "\u001b[1;31m---------------------------------------------------------------------------\u001b[0m",
      "\u001b[1;31mNameError\u001b[0m                                 Traceback (most recent call last)",
      "Cell \u001b[1;32mIn [9], line 1\u001b[0m\n\u001b[1;32m----> 1\u001b[0m plt\u001b[39m.\u001b[39mscatter(ch1, ch2)\n\u001b[0;32m      2\u001b[0m plt\u001b[39m.\u001b[39mxlabel(param1[\u001b[39m'\u001b[39m\u001b[39mSource\u001b[39m\u001b[39m'\u001b[39m])\n\u001b[0;32m      3\u001b[0m plt\u001b[39m.\u001b[39mylabel(param2[\u001b[39m'\u001b[39m\u001b[39mSource\u001b[39m\u001b[39m'\u001b[39m])\n",
      "\u001b[1;31mNameError\u001b[0m: name 'ch2' is not defined"
     ]
    }
   ],
   "source": [
    "plt.scatter(ch1, ch2)\n",
    "plt.xlabel(param1['Source'])\n",
    "plt.ylabel(param2['Source'])\n",
    "plt.title('Forrás - Kondi')\n",
    "plt.show()"
   ]
  },
  {
   "cell_type": "markdown",
   "metadata": {},
   "source": [
    "# Az eredeti\n",
    "![*](\"221205\\RC1\\A0002DS.BMP\")"
   ]
  }
 ],
 "metadata": {
  "kernelspec": {
   "display_name": "Python 3.11.0 64-bit (microsoft store)",
   "language": "python",
   "name": "python3"
  },
  "language_info": {
   "codemirror_mode": {
    "name": "ipython",
    "version": 3
   },
   "file_extension": ".py",
   "mimetype": "text/x-python",
   "name": "python",
   "nbconvert_exporter": "python",
   "pygments_lexer": "ipython3",
   "version": "3.11.0"
  },
  "orig_nbformat": 4,
  "vscode": {
   "interpreter": {
    "hash": "1432c27067456d9c602523e5e936aced0263109f5a71177d7cb50b721b862e5e"
   }
  }
 },
 "nbformat": 4,
 "nbformat_minor": 2
}
